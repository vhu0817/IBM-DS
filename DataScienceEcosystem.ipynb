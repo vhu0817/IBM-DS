{
 "cells": [
  {
   "cell_type": "markdown",
   "id": "b3cd49b8-9d82-4eff-89e2-3b2185e2178f",
   "metadata": {},
   "source": [
    "# Data Science Tools and Ecosystem"
   ]
  },
  {
   "cell_type": "markdown",
   "id": "fca46464-90b5-4a39-b6b3-f200bd26ba9d",
   "metadata": {},
   "source": [
    "In this notebook, Data Science Tools and Ecosystem are summarized."
   ]
  },
  {
   "cell_type": "markdown",
   "id": "811e9485-986c-41f2-9e69-2f25e8911616",
   "metadata": {},
   "source": [
    "__Objectives:__\n",
    "\n",
    "- Popular languages that Data Science\n",
    "- Popular libraries in Data Science\n",
    "- Tools used for Data Science"
   ]
  },
  {
   "cell_type": "markdown",
   "id": "3d977156-a506-48f4-8ba3-3a46d4636f39",
   "metadata": {},
   "source": [
    "Some of the popular languages that Data Scientists use are:\n",
    "1. Python\n",
    "2. R\n",
    "3. Julia"
   ]
  },
  {
   "cell_type": "markdown",
   "id": "c1ad4805-1aaf-4547-b823-c5b30382075b",
   "metadata": {},
   "source": [
    "Some of the commonly used libraries used by Data Scientists include:\n",
    "1. numpy\n",
    "2. pandas\n",
    "3. scipy"
   ]
  },
  {
   "cell_type": "markdown",
   "id": "7482392b-8977-40be-a120-6908acc1c8a0",
   "metadata": {},
   "source": [
    "Data Science Tools\n",
    "| Data Science Tools|\n",
    "|-------------------|\n",
    "|SAS|\n",
    "|Apache Spark|\n",
    "|BigML|"
   ]
  },
  {
   "cell_type": "markdown",
   "id": "aba0bfbb-8b2d-4afb-894f-7291f80092af",
   "metadata": {},
   "source": [
    "### Below are a few examples of evaluating arithmetic expressions in Python"
   ]
  },
  {
   "cell_type": "code",
   "execution_count": 11,
   "id": "44d488ed-bd11-47db-b92b-11cf599e7db8",
   "metadata": {},
   "outputs": [
    {
     "data": {
      "text/plain": [
       "17"
      ]
     },
     "execution_count": 11,
     "metadata": {},
     "output_type": "execute_result"
    }
   ],
   "source": [
    "(3*4)+5\n",
    "# This a simple arithmetic expression to mutiply then add integers"
   ]
  },
  {
   "cell_type": "code",
   "execution_count": 18,
   "id": "29aa7ff7-00b3-4ada-9702-ce9b71606efb",
   "metadata": {},
   "outputs": [
    {
     "name": "stdout",
     "output_type": "stream",
     "text": [
      "3.3333333333333335\n"
     ]
    }
   ],
   "source": [
    "minutes = 200\n",
    "hours = minutes / 60\n",
    "print(hours)\n",
    "# This will convert 200 minutes to hours by diving by 60"
   ]
  },
  {
   "cell_type": "markdown",
   "id": "e7c63b28-6493-4cec-809a-672985883e3c",
   "metadata": {},
   "source": [
    "## Author\n",
    "Sarthak Kumar Maiti"
   ]
  }
 ],
 "metadata": {
  "kernelspec": {
   "display_name": "Python [conda env:base] *",
   "language": "python",
   "name": "conda-base-py"
  },
  "language_info": {
   "codemirror_mode": {
    "name": "ipython",
    "version": 3
   },
   "file_extension": ".py",
   "mimetype": "text/x-python",
   "name": "python",
   "nbconvert_exporter": "python",
   "pygments_lexer": "ipython3",
   "version": "3.12.7"
  }
 },
 "nbformat": 4,
 "nbformat_minor": 5
}
